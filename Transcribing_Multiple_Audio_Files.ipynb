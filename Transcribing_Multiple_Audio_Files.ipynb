{
 "cells": [
  {
   "cell_type": "markdown",
   "id": "a6a5a692-01dd-4b23-b83e-8ef0a7ca9150",
   "metadata": {},
   "source": [
    "# Transcribing Multiple Audio Files"
   ]
  },
  {
   "cell_type": "code",
   "execution_count": 12,
   "id": "94e8626a-2bee-4d90-a802-2db9807d39f1",
   "metadata": {},
   "outputs": [],
   "source": [
    "import whisper\n",
    "import os\n",
    "import csv"
   ]
  },
  {
   "cell_type": "code",
   "execution_count": 13,
   "id": "4d9e714b-5096-48d0-adbc-1a2266c44a0d",
   "metadata": {},
   "outputs": [],
   "source": [
    "directory_path = r\"path_to_your_files\""
   ]
  },
  {
   "cell_type": "code",
   "execution_count": 14,
   "id": "076a0ec9-d952-4353-b6f0-cd04ef117cb7",
   "metadata": {},
   "outputs": [],
   "source": [
    "model = whisper.load_model(\"base\")"
   ]
  },
  {
   "cell_type": "code",
   "execution_count": 15,
   "id": "dbeed00e-2c31-451c-9727-842dbea02db0",
   "metadata": {},
   "outputs": [],
   "source": [
    "def transcribe_directory_whisper(directory_path):\n",
    "    transcriptions = []\n",
    "    for file_name in os.listdir(directory_path):\n",
    "        if file_name.endswith(\".wav\"):\n",
    "            files_path = os.path.join(directory_path, file_name)\n",
    "            # Transcribe the audio file\n",
    "            result = model.transcribe(files_path)\n",
    "            transcription = result[\"text\"]\n",
    "            transcriptions.append({\"file_name\": file_name, \"transcription\": transcription})\n",
    "    return transcriptions"
   ]
  },
  {
   "cell_type": "code",
   "execution_count": 16,
   "id": "af1ae8b9-cc2e-4486-bc70-e77dedc9a7c4",
   "metadata": {},
   "outputs": [],
   "source": [
    "transcriptions = transcribe_directory_whisper(directory_path)"
   ]
  },
  {
   "cell_type": "code",
   "execution_count": 17,
   "id": "1d25a980-4f0c-4ac8-8816-3d9e4d036626",
   "metadata": {},
   "outputs": [
    {
     "data": {
      "text/plain": [
       "[{'file_name': 'Track1.wav',\n",
       "  'transcription': \" I'm a sound engineer turned data scientist. Curious about machine learning and artificial intelligence.\"},\n",
       " {'file_name': 'Track2.wav',\n",
       "  'transcription': ' My professional background is primarily in media production with a focus on audio, IT, and communications.'},\n",
       " {'file_name': 'Track3.wav',\n",
       "  'transcription': \" Over the years, I've developed a strong interest in digital signal processing sound and music computing.\"},\n",
       " {'file_name': 'Track4.wav',\n",
       "  'transcription': ' As a graduate of Sound Engineering, I make it a priority to strike a balance between art and technology and my work.'},\n",
       " {'file_name': 'Track5.wav',\n",
       "  'transcription': ' I believe that nowadays, data is the key to everything.'},\n",
       " {'file_name': 'Track6.wav',\n",
       "  'transcription': ' Not only can it provide a rational explanation for complicated scientific puzzles.'},\n",
       " {'file_name': 'Track7.wav',\n",
       "  'transcription': ' But it can also give you efficient methodologies for solving problems.'},\n",
       " {'file_name': 'Track8.wav',\n",
       "  'transcription': \" From the website cookies you've been asked to accept while surfing the web to the sonification of a super massive black hole.\"}]"
      ]
     },
     "execution_count": 17,
     "metadata": {},
     "output_type": "execute_result"
    }
   ],
   "source": [
    "transcriptions"
   ]
  },
  {
   "cell_type": "markdown",
   "id": "a75c510f-7bd0-40ad-b178-1a4b0a2d6292",
   "metadata": {},
   "source": [
    "## Saving Audio Transcriptions to CSV"
   ]
  },
  {
   "cell_type": "code",
   "execution_count": 18,
   "id": "5e46b176-1c51-4fa7-8383-6ca7dad4d7a9",
   "metadata": {},
   "outputs": [],
   "source": [
    "output_file = \"transcriptions.csv\"\n",
    "\n",
    "with open(output_file, mode='w', newline='') as file:\n",
    "    writer = csv.writer(file)\n",
    "    writer.writerow([\"Track Number\", \"File Name\", \"Transcription\"]) \n",
    "    for number, transcription in enumerate(transcriptions, start=1):\n",
    "        writer.writerow([number, transcription['file_name'], transcription['transcription']])"
   ]
  },
  {
   "cell_type": "code",
   "execution_count": null,
   "id": "d2f55656-24c7-4dd7-a264-29e645e8dbd7",
   "metadata": {},
   "outputs": [],
   "source": []
  }
 ],
 "metadata": {
  "kernelspec": {
   "display_name": "Python(speech_env)",
   "language": "python",
   "name": "speech_env"
  },
  "language_info": {
   "codemirror_mode": {
    "name": "ipython",
    "version": 3
   },
   "file_extension": ".py",
   "mimetype": "text/x-python",
   "name": "python",
   "nbconvert_exporter": "python",
   "pygments_lexer": "ipython3",
   "version": "3.9.21"
  }
 },
 "nbformat": 4,
 "nbformat_minor": 5
}
